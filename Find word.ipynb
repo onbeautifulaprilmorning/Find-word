{
  "nbformat": 4,
  "nbformat_minor": 0,
  "metadata": {
    "colab": {
      "name": "HW#3 단어찾기.ipynb",
      "version": "0.3.2",
      "provenance": [],
      "collapsed_sections": []
    },
    "kernelspec": {
      "name": "python3",
      "display_name": "Python 3"
    }
  },
  "cells": [
    {
      "metadata": {
        "id": "B4XaTK-EkpGU",
        "colab_type": "code",
        "outputId": "c3c3c171-aaa1-4149-86fd-4e03e85ebd70",
        "colab": {
          "base_uri": "https://localhost:8080/",
          "height": 34
        }
      },
      "cell_type": "code",
      "source": [
        "text = \"Why does the sun go on shining? Why does the sea rush to shore? Don't they know it's the end of the world? Cause you don't love me anymore Why do the birds go on singing?\"\n",
        "text += \" Why do the stars glow above? Don't they know it's the end of the world? It ended when I lost your love I wake up in the morning and I wonder Why everything's the same as it was\"\n",
        "text += \" I can't understand, no, I can't understand How life goes on the way it does Why does my heart go on beating? Why do these eyes of mine cry? Don't they know it's the end of the world?\"\n",
        "text += \" It ended when you said goodbye Why does my heart go on beating? Why do these eyes of mine cry? Don't they know it's the end of the world? It ended when you said goodbye\"\n",
        "\n",
        "# search = input(\"단어를 입력하세요\")\n",
        "\n",
        "text = text.lower()\n",
        "words = set(text.split(\" \"))\n",
        "words = list(words)\n",
        "words.sort()\n",
        "\n",
        "len(words)\n"
      ],
      "execution_count": 0,
      "outputs": [
        {
          "output_type": "execute_result",
          "data": {
            "text/plain": [
              "62"
            ]
          },
          "metadata": {
            "tags": []
          },
          "execution_count": 2
        }
      ]
    },
    {
      "metadata": {
        "id": "DarifUefHy24",
        "colab_type": "code",
        "outputId": "53cf0440-18e6-406d-ddd9-e45eb7224cf2",
        "colab": {
          "base_uri": "https://localhost:8080/",
          "height": 52
        }
      },
      "cell_type": "code",
      "source": [
        "a = words[0]\n",
        "b = words[len(words)-1]\n",
        "m = words[(len(words) - 1) // 2]\n",
        "\n",
        "#찾는 단어\n",
        "search = input(\"단어를 입력하세요: \")\n",
        "\n",
        "cnt = 0\n",
        "while True:\n",
        "  cnt += 1\n",
        "  if search > m:\n",
        "    a = m\n",
        "    m = words[(words.index(a) + words.index(b)) // 2]\n",
        "  elif search < m:\n",
        "    b = m\n",
        "    m = words[(words.index(a) + words.index(b)) // 2]\n",
        "  elif m == search:\n",
        "    print(m, \"단어가 있습니다. %d번만에 찾았습니다.\" %cnt)\n",
        "    break\n",
        "  if search in words:\n",
        "    pass\n",
        "  else:\n",
        "    print(\"단어를 찾을 수 없습니다.\")\n",
        "    break\n",
        "  "
      ],
      "execution_count": 0,
      "outputs": [
        {
          "output_type": "stream",
          "text": [
            "단어를 입력하세요: you\n",
            "you 단어가 있습니다. 6번만에 찾았습니다.\n"
          ],
          "name": "stdout"
        }
      ]
    },
    {
      "metadata": {
        "id": "7teio4atH7N7",
        "colab_type": "code",
        "colab": {}
      },
      "cell_type": "code",
      "source": [
        ""
      ],
      "execution_count": 0,
      "outputs": []
    }
  ]
}